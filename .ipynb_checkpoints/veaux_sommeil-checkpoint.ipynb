{
 "cells": [
  {
   "cell_type": "code",
   "execution_count": 1,
   "id": "e9d206b5",
   "metadata": {},
   "outputs": [],
   "source": [
    "# question 2\n",
    "\n",
    "traitement_1 = [17, 40, 20, 26, 70, 31, 70, 35]\n",
    "traitement_2 = [14, 65, 37, 22, 37, 73, 43, 61, 46]\n",
    "traitement_3 = [18, 76, 19, 49, 27, 19, 45, 42, 53]"
   ]
  },
  {
   "cell_type": "code",
   "execution_count": 22,
   "id": "4e3d31c9",
   "metadata": {},
   "outputs": [],
   "source": [
    "import math\n",
    "\n",
    "from math import sqrt\n",
    "\n",
    "import numpy as np\n",
    "\n",
    "import scipy.stats as stats"
   ]
  },
  {
   "cell_type": "code",
   "execution_count": 8,
   "id": "7096c73a",
   "metadata": {},
   "outputs": [],
   "source": [
    "# on calcule les moyennes \n",
    "\n",
    "avg_1= np.average(traitement_1)\n",
    "\n",
    "avg_2= np.average(traitement_2)\n",
    "\n",
    "avg_3= np.average(traitement_3)"
   ]
  },
  {
   "cell_type": "code",
   "execution_count": 13,
   "id": "d2b6a038",
   "metadata": {},
   "outputs": [],
   "source": [
    "#on calcule les variances\n",
    "\n",
    "var_1 = np.var(traitement_1)\n",
    "\n",
    "var_2 = np.var(traitement_2)\n",
    "\n",
    "var_3 = np.var(traitement_3)\n",
    "\n",
    "\n"
   ]
  },
  {
   "cell_type": "code",
   "execution_count": 14,
   "id": "128cd558",
   "metadata": {},
   "outputs": [
    {
     "name": "stdout",
     "output_type": "stream",
     "text": [
      "les moyennes des traitements par ordre sont 38.625 44.22222222222222 38.666666666666664\n"
     ]
    }
   ],
   "source": [
    "print(\"les moyennes des traitements par ordre sont {} {} {}\" .format( avg_1, avg_2, avg_3))\n",
    "\n"
   ]
  },
  {
   "cell_type": "code",
   "execution_count": 16,
   "id": "d443d18f",
   "metadata": {},
   "outputs": [
    {
     "name": "stdout",
     "output_type": "stream",
     "text": [
      "les variances des traitements par ordre sont 376.984375 339.7283950617284 343.77777777777777\n"
     ]
    }
   ],
   "source": [
    "print(\"les variances des traitements par ordre sont {} {} {}\" .format( var_1, var_2, var_3))\n",
    "\n"
   ]
  },
  {
   "cell_type": "code",
   "execution_count": 29,
   "id": "9990a830",
   "metadata": {},
   "outputs": [
    {
     "name": "stdout",
     "output_type": "stream",
     "text": [
      "Intervalle de confiance de la variance pour le traitement 1 est [361.0160656962767, 392.9526843037233]\n",
      "Intervalle de confiance de la variance pour le traitement 2 est [325.4365952728083, 354.0201948506485]\n"
     ]
    }
   ],
   "source": [
    "# IL faut s'assurer que les variances sont similaires en effectuant un test d'homogénieté\n",
    "# on prendra alpha= 95% et on prend la variance de l'échantillon 1 et 3 \n",
    "# on a l'intervalle de confiance est V1 +-  tb * sqrt(2vx/n)\n",
    "#on calcule la borne inférieur  et la borne sup de l'intervalle de confiance.\n",
    "\n",
    "min_ic_1 = var_1 - stats.norm.ppf(0.95, loc = 0, scale = 1) * sqrt(2*var_1/len(traitement_1))\n",
    "max_ic_1 = var_1 + stats.norm.ppf(0.95, loc = 0, scale = 1) * sqrt(2*var_1/len(traitement_1))\n",
    "\n",
    "\n",
    "print(\"Intervalle de confiance de la variance pour le traitement 1 est\",  [min_ic_1, max_ic_1])\n",
    "#on conclut que les traitements 2 et 3 ont une variance différente à 95%.\n",
    "\n",
    "#on traite maintenant le deuxième échantillon avec le troisième\n",
    "min_ic_2 = var_2 - stats.norm.ppf(0.95, loc = 0, scale = 1) * sqrt(2*var_2/len(traitement_2))\n",
    "max_ic_2 = var_2 + stats.norm.ppf(0.95, loc = 0, scale = 1) * sqrt(2*var_2/len(traitement_2))\n",
    "\n",
    "print(\"Intervalle de confiance de la variance pour le traitement 2 est\",  [min_ic_2, max_ic_2])\n",
    "# on a la variance du 3ème échantillon est incluse dans l'intervalle de confiance, donc on ne peut pas rejeter \n",
    "#l'hypothèse indiquant que les deux variances sont similaires. \n"
   ]
  },
  {
   "cell_type": "code",
   "execution_count": 33,
   "id": "644ffb6d",
   "metadata": {},
   "outputs": [
    {
     "name": "stdout",
     "output_type": "stream",
     "text": [
      "Intervalle de confiance de la moyenne pour le traitement 1 est [35.010763982623104, 42.239236017376896]\n"
     ]
    }
   ],
   "source": [
    "#3. Quelqu’un affirme que la moyenne est de 30 pour le traitement 1, qu’en pensez-vous ?\n",
    "\n",
    "#On calcule l'intervalle de confiance de la moyenne de premier échantillon.\n",
    "\n",
    "min_avg_1 = avg_1 - stats.norm.ppf(0.95 , loc = 0, scale = 1) * sqrt(avg_1/len(traitement_1))\n",
    "max_avg_1 = avg_1 + stats.norm.ppf(0.95 , loc = 0, scale = 1) * sqrt(avg_1/len(traitement_1))\n",
    "\n",
    "print(\"Intervalle de confiance de la moyenne pour le traitement 1 est\",  [min_avg_1, max_avg_1])\n",
    "\n",
    "#on peut à coclure à 95% que la personne s'est trompée car 30 n'est pas inclut dans l'intervalle de confiance.\n",
    "\n"
   ]
  },
  {
   "cell_type": "code",
   "execution_count": 34,
   "id": "d301ba66",
   "metadata": {},
   "outputs": [
    {
     "name": "stdout",
     "output_type": "stream",
     "text": [
      "les moyennes des traitements par ordre sont 38.625 44.22222222222222 38.666666666666664\n"
     ]
    }
   ],
   "source": [
    "#question 4: l'efficacité des traitements 2 et 3 par rapport au traitement 1 \n",
    "# on s'intéresse à la moyenne du traitement 2 et 3 par rapport au traitement 1\n",
    "# H0: les traitements sont inefficaces. \n",
    "# H1: les traitements sont efficaces. (avg_2 < avg_1 et avg_3 <avg_1)\n",
    "\n",
    "print(\"les moyennes des traitements par ordre sont {} {} {}\" .format( avg_1, avg_2, avg_3))\n",
    "#on remarque avant même d'effectuer de tests que le pourcentage de sommeil augmente au contraire\n",
    "# on effectue un test d'homogéniété avec la loi normale.\n",
    "\n",
    "\n",
    "\n"
   ]
  },
  {
   "cell_type": "code",
   "execution_count": 39,
   "id": "bf7816ef",
   "metadata": {},
   "outputs": [
    {
     "name": "stdout",
     "output_type": "stream",
     "text": [
      "Intervalle de confiance de la moyenne pour le traitement 2 est [40.81468782662773, 47.62975661781671]\n",
      "la moyenne du traitement 1: 38.625 n'est pas plus grand que max du traitement 2: 47.62975661781671\n"
     ]
    }
   ],
   "source": [
    "# on commence par le traitement 2.\n",
    "\n",
    "min_avg_2 = avg_2 - stats.norm.ppf(0.95 , loc = 0, scale = 1) * sqrt(avg_1/len(traitement_2))\n",
    "max_avg_2 = avg_2 + stats.norm.ppf(0.95 , loc = 0, scale = 1) * sqrt(avg_1/len(traitement_2))\n",
    "\n",
    "print(\"Intervalle de confiance de la moyenne pour le traitement 2 est\",  [min_avg_2, max_avg_2])\n",
    "print(\"la moyenne du traitement 1: {} n'est pas plus grand que max du traitement 2: {}\" .format(avg_1,  max_avg_2))\n",
    "\n",
    "\n",
    "\n",
    "\n"
   ]
  },
  {
   "cell_type": "code",
   "execution_count": 133,
   "id": "e84ca1b5",
   "metadata": {},
   "outputs": [
    {
     "name": "stdout",
     "output_type": "stream",
     "text": [
      "Intervalle de confiance de la moyenne pour le traitement 2 est [35.2572948299057, 42.076038503427625]\n",
      "la moyenne du traitement 1: 38.625 n'est pas plus grand que max du traitement 2: 42.076038503427625\n",
      "\n",
      "\n",
      "les traitements 2 et 3 sont inefficaces.\n"
     ]
    }
   ],
   "source": [
    "# on passe au traitement 3.\n",
    "\n",
    "min_avg_3 = avg_3 - stats.norm.ppf(0.95 , loc = 0, scale = 1) * sqrt(avg_3/len(traitement_3))\n",
    "max_avg_3 = avg_3 + stats.norm.ppf(0.95 , loc = 0, scale = 1) * sqrt(avg_3/len(traitement_3))\n",
    "\n",
    "print(\"Intervalle de confiance de la moyenne pour le traitement 2 est\",  [min_avg_3, max_avg_3])\n",
    "print(\"la moyenne du traitement 1: {} n'est pas plus grand que max du traitement 2: {}\" .format(avg_1,  max_avg_3))\n",
    "print(\"\\n\")\n",
    "#question5\n",
    "print(\"les traitements 2 et 3 sont inefficaces.\")\n",
    "\n"
   ]
  },
  {
   "cell_type": "code",
   "execution_count": 134,
   "id": "0268aa88",
   "metadata": {},
   "outputs": [
    {
     "name": "stdout",
     "output_type": "stream",
     "text": [
      "pvalue {} > 0.05 et O.O1 donc on accepte l'hypothèse nulle les moyennes sont similaires\n",
      "il faut donner un plus grand échnatillon et sur une durée plus significante que 29h\n"
     ]
    }
   ],
   "source": [
    "#question 6 test d'anova.\n",
    "\n",
    "from scipy.stats import f_oneway\n",
    "\n",
    "# Conduct the one-way ANOVA\n",
    "f_oneway(traitement_1,traitement_2, traitement_3)\n",
    "\n",
    "print(\"pvalue {} > 0.05 et O.O1 donc on accepte l'hypothèse nulle les moyennes sont similaires\")\n",
    "\n",
    "#question7: \n",
    "\n",
    "print(\"il faut donner un plus grand échnatillon et sur une durée plus significante que 29h\")\n"
   ]
  },
  {
   "cell_type": "code",
   "execution_count": 135,
   "id": "458fcd7e",
   "metadata": {},
   "outputs": [],
   "source": [
    "array = np.array([\n",
    "    ['A', 'B', 'AB'],\n",
    "    [ 378, 66, 40],\n",
    "    [ 60, 12, 10]\n",
    "])"
   ]
  },
  {
   "cell_type": "code",
   "execution_count": 140,
   "id": "0883956e",
   "metadata": {},
   "outputs": [
    {
     "data": {
      "text/plain": [
       "array([['A', 'B', 'AB', 'sum'],\n",
       "       ['374.54416961130744', '66.69964664310955', '42.75618374558304',\n",
       "        '484'],\n",
       "       ['63.45583038869258', '11.30035335689046', '7.243816254416961',\n",
       "        '82'],\n",
       "       ['438', '78', '50', '566']], dtype='<U32')"
      ]
     },
     "execution_count": 140,
     "metadata": {},
     "output_type": "execute_result"
    }
   ],
   "source": [
    "# on calcule les sommes respectives des groupes et des rhésus\n",
    "\n",
    "array = np.array([\n",
    "    ['A', 'B', 'AB', \"sum\"],\n",
    "    [ 378, 66, 40, 484],\n",
    "    [ 60, 12, 10, 82],\n",
    "    [ 438, 78, 50, 566]\n",
    "])\n",
    "# maintenant on calcule les valuers estimées.\n",
    "\n",
    "array_estimated = np.array([\n",
    "    ['A', 'B', 'AB', \"sum\"],\n",
    "    [ 484*438/566, 484*78/566, 484*50/566, 484],\n",
    "    [ 82*438/566, 82*78/566, 82*50/566, 82],\n",
    "    [ 438, 78, 50, 566]\n",
    "    \n",
    "])\n",
    "array_estimated\n"
   ]
  },
  {
   "cell_type": "code",
   "execution_count": 141,
   "id": "cc3ef782",
   "metadata": {},
   "outputs": [
    {
     "data": {
      "text/plain": [
       "1.4971143730369803"
      ]
     },
     "execution_count": 141,
     "metadata": {},
     "output_type": "execute_result"
    }
   ],
   "source": [
    "# on calcule la distance X2 observée\n",
    "x2_obs = 0\n",
    "for i in range (1,3):\n",
    "    for j in range(0,3):\n",
    "        \n",
    "        x2_obs+= ( float(array[i][j]) - float(array_estimated[i][j]) )**2/float(array_estimated[i][j])\n",
    "\n",
    "x2_obs\n",
    "\n"
   ]
  },
  {
   "cell_type": "code",
   "execution_count": 142,
   "id": "cf9c0c81",
   "metadata": {},
   "outputs": [
    {
     "name": "stdout",
     "output_type": "stream",
     "text": [
      "5.991464547107979 x2_th > 1.4971143730369803 x2_obs donc on accepte H0 les groupes sanguins ont aucune influence sur le rhésus\n"
     ]
    }
   ],
   "source": [
    "x2_th_95= stats.chi2.ppf(0.95, df=2)\n",
    "\n",
    "x2_th_95 \n",
    "\n",
    "print(\"{} x2_th > {} x2_obs donc on accepte H0 les groupes sanguins ont aucune influence sur le rhésus\" .format(x2_th_95, x2_obs ) )"
   ]
  },
  {
   "cell_type": "code",
   "execution_count": 143,
   "id": "cf6ffae8",
   "metadata": {},
   "outputs": [
    {
     "name": "stdout",
     "output_type": "stream",
     "text": [
      "9.21034037197618 x2_th > 1.4971143730369803 x2_obs donc on accepte H0 les groupes sanguins ont aucune influence sur le rhésus\n"
     ]
    }
   ],
   "source": [
    "x2_th_99= stats.chi2.ppf(0.99, df=2)\n",
    "\n",
    "x2_th_99\n",
    "\n",
    "print(\"{} x2_th > {} x2_obs donc on accepte H0 les groupes sanguins ont aucune influence sur le rhésus\" .format(x2_th_99, x2_obs ) )"
   ]
  },
  {
   "cell_type": "code",
   "execution_count": 200,
   "id": "881794ac",
   "metadata": {},
   "outputs": [
    {
     "name": "stdout",
     "output_type": "stream",
     "text": [
      "[['O+' 'A+' 'B+' 'AB+' 'O-' 'A-' 'B-' 'AB-']\n",
      " ['0.3737' '0.2724' '0.2283' '0.0622' '0.0269' '0.0209' '0.0116' '0.004']]\n"
     ]
    }
   ],
   "source": [
    "# Ce sont les données de wikipédia du monde\n",
    "distribution_world_percentage =  np.array([\n",
    "    [\"O+\", \"A+\", \"B+\", \"AB+\", \"O-\", \"A-\", \"B-\", \"AB-\"],\n",
    "    [0.3737, 0.2724, 0.2283, 0.0622, 0.0269, 0.0209, 0.0116, 0.004]\n",
    "])\n",
    "\n",
    "print(distribution_world)\n",
    "sample_size= 7772850805\n",
    "\n",
    "#sample_size = 566\n"
   ]
  },
  {
   "cell_type": "code",
   "execution_count": 201,
   "id": "6715cf07",
   "metadata": {},
   "outputs": [
    {
     "data": {
      "text/plain": [
       "array([['O+', 'A+', 'B+', 'AB+', 'O-', 'A-', 'B-', 'AB-'],\n",
       "       ['2904714345.8285', '2117324559.2819998', '1774541838.7815',\n",
       "        '483471320.071', '209089686.6545', '162452581.8245',\n",
       "        '90165069.338', '31091403.22']], dtype='<U32')"
      ]
     },
     "execution_count": 201,
     "metadata": {},
     "output_type": "execute_result"
    }
   ],
   "source": [
    "total_distribution = np.array([\n",
    "    [\"O+\", \"A+\", \"B+\", \"AB+\", \"O-\", \"A-\", \"B-\", \"AB-\"],\n",
    "    [0.3737* sample_size , 0.2724* sample_size, 0.2283* sample_size, 0.0622*sample_size, 0.0269*sample_size, 0.0209*sample_size, 0.0116*sample_size, 0.004*sample_size]\n",
    "])\n",
    "\n",
    "total_distribution\n"
   ]
  },
  {
   "cell_type": "code",
   "execution_count": 202,
   "id": "c58fd11a",
   "metadata": {},
   "outputs": [
    {
     "data": {
      "text/plain": [
       "7280052063.962999"
      ]
     },
     "execution_count": 202,
     "metadata": {},
     "output_type": "execute_result"
    }
   ],
   "source": [
    "sum1 =0\n",
    "sum2 =0\n",
    "for i in range (0,4):\n",
    "    sum1 += float(total_distribution[1][i])\n",
    "    sum2 += float(total_distribution[1][i+4])\n",
    "    \n",
    "sum1"
   ]
  },
  {
   "cell_type": "code",
   "execution_count": 203,
   "id": "86ebdf29",
   "metadata": {},
   "outputs": [
    {
     "data": {
      "text/plain": [
       "array([['A', 'B', 'AB', 'O', 'sum'],\n",
       "       ['2904714345.8285', '2117324559.2819998', '1774541838.7815',\n",
       "        '483471320.071', '7280052063.962999'],\n",
       "       ['209089686.6545', '162452581.8245', '90165069.338',\n",
       "        '31091403.22', '492798741.03699994'],\n",
       "       ['3113804032.483', '2279777141.1064997', '1864706908.1195002',\n",
       "        '514562723.291', '7772850805']], dtype='<U32')"
      ]
     },
     "execution_count": 203,
     "metadata": {},
     "output_type": "execute_result"
    }
   ],
   "source": [
    "total = np.array([\n",
    "    ['A', 'B', 'AB', \"O\", \"sum\"],\n",
    "    [ float(total_distribution[1][0]), float(total_distribution[1][1]), float(total_distribution[1][2]), float(total_distribution[1][3]), sum1 ],\n",
    "    [ float(total_distribution[1][4]), float(total_distribution[1][5]), float(total_distribution[1][6]), float(total_distribution[1][7]), sum2 ], \n",
    "    [ float(total_distribution[1][0]) + float(total_distribution[1][4]), float(total_distribution[1][1]) + float(total_distribution[1][5]), float(total_distribution[1][2])+ float(total_distribution[1][6]), float(total_distribution[1][3]) + float(total_distribution[1][7]), sample_size ]\n",
    "])\n",
    "\n",
    "total"
   ]
  },
  {
   "cell_type": "code",
   "execution_count": 204,
   "id": "d5667a1b",
   "metadata": {},
   "outputs": [
    {
     "data": {
      "text/plain": [
       "'3113804032.483'"
      ]
     },
     "execution_count": 204,
     "metadata": {},
     "output_type": "execute_result"
    }
   ],
   "source": [
    "total[3][0]\n",
    "\n"
   ]
  },
  {
   "cell_type": "code",
   "execution_count": 205,
   "id": "ff34894e",
   "metadata": {},
   "outputs": [
    {
     "data": {
      "text/plain": [
       "array([['A', 'B', 'AB', 'O', 'sum'],\n",
       "       ['2916388856.8235774', '2135239270.3603475', '1746484490.1447237',\n",
       "        '481939446.63435054', '7280052063.962999'],\n",
       "       ['197415175.6594222', '144537870.74615207', '118222417.9747763',\n",
       "        '32623276.656649396', '492798741.03699994'],\n",
       "       ['3113804032.483', '2279777141.1064997', '1864706908.1195002',\n",
       "        '514562723.291', '7772850805']], dtype='<U32')"
      ]
     },
     "execution_count": 205,
     "metadata": {},
     "output_type": "execute_result"
    }
   ],
   "source": [
    "total_estimated = np.array([\n",
    "    ['A', 'B', 'AB', \"O\", \"sum\"],\n",
    "    [ (float(total[1][4])*float(total[3][0]))/sample_size  , (float(total[1][4])*float(total[3][1]))/sample_size  , (float(total[1][4])*float(total[3][2]))/sample_size  , (float(total[1][4])*float(total[3][3]))/sample_size, sum1  ],\n",
    "    [ (float(total[2][4])*float(total[3][0]))/sample_size  , (float(total[2][4])*float(total[3][1]))/sample_size, (float(total[2][4])*float(total[3][2]))/sample_size, (float(total[2][4])*float(total[3][3]))/sample_size, sum2],\n",
    "    total[3]\n",
    "    \n",
    "])\n",
    "total_estimated"
   ]
  },
  {
   "cell_type": "code",
   "execution_count": 206,
   "id": "02cd08f3",
   "metadata": {},
   "outputs": [
    {
     "data": {
      "text/plain": [
       "10294170.92414077"
      ]
     },
     "execution_count": 206,
     "metadata": {},
     "output_type": "execute_result"
    }
   ],
   "source": [
    "# on calcule la distance X2 observée\n",
    "x2_obs_new = 0\n",
    "for i in range (1,3):\n",
    "    for j in range(0,4):\n",
    "        \n",
    "        x2_obs_new+= ( float(total[i][j]) - float(total_estimated[i][j]))**2/(float(total_estimated[i][j]))\n",
    "\n",
    "x2_obs_new\n",
    "\n",
    "\n"
   ]
  },
  {
   "cell_type": "code",
   "execution_count": 207,
   "id": "ad4a0562",
   "metadata": {},
   "outputs": [
    {
     "name": "stdout",
     "output_type": "stream",
     "text": [
      "7.814727903251179 x2_th < 10294170.92414077 x2_obs donc on rejette H0 les groupes sanguins ont aucune influence sur le rhésus\n"
     ]
    }
   ],
   "source": [
    "x2_th_95= stats.chi2.ppf(0.95, df=3)\n",
    "\n",
    "x2_th_95 \n",
    "\n",
    "print(\"{} x2_th < {} x2_obs donc on rejette H0 les groupes sanguins ont aucune influence sur le rhésus\" .format(x2_th_95, x2_obs_new ) )"
   ]
  },
  {
   "cell_type": "code",
   "execution_count": 208,
   "id": "3e6e237b",
   "metadata": {},
   "outputs": [
    {
     "name": "stdout",
     "output_type": "stream",
     "text": [
      "11.344866730144373 x2_th < 10294170.92414077 x2_obs donc on rejette H0 les groupes sanguins ont aucune influence sur le rhésus\n"
     ]
    }
   ],
   "source": [
    "x2_th_99= stats.chi2.ppf(0.99, df=3)\n",
    "\n",
    "x2_th_99 \n",
    "\n",
    "print(\"{} x2_th < {} x2_obs donc on rejette H0 les groupes sanguins ont aucune influence sur le rhésus\" .format(x2_th_99, x2_obs_new ) )"
   ]
  },
  {
   "cell_type": "code",
   "execution_count": null,
   "id": "23542b9a",
   "metadata": {},
   "outputs": [],
   "source": []
  },
  {
   "cell_type": "code",
   "execution_count": null,
   "id": "3e09626f",
   "metadata": {},
   "outputs": [],
   "source": []
  }
 ],
 "metadata": {
  "kernelspec": {
   "display_name": "Python 3 (ipykernel)",
   "language": "python",
   "name": "python3"
  },
  "language_info": {
   "codemirror_mode": {
    "name": "ipython",
    "version": 3
   },
   "file_extension": ".py",
   "mimetype": "text/x-python",
   "name": "python",
   "nbconvert_exporter": "python",
   "pygments_lexer": "ipython3",
   "version": "3.9.16"
  }
 },
 "nbformat": 4,
 "nbformat_minor": 5
}
